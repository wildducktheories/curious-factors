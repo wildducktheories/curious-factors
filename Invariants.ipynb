{
 "cells": [
  {
   "cell_type": "markdown",
   "metadata": {},
   "source": [
    "# Invariants That Apply To Regular Polygons That Tessellate The Plane\n",
    "\n",
    "The following statements encapsulate the invariants that classify the regular n-sided, convex polygons that tessellate the plane from those that don't\n",
    "\n",
    "Let $n,r \\in \\mathbb{N}$, then a regular n-sided, convex polygon of n sides will tesselate the plane iff:\n",
    "\n",
    "- a regular, convex n-sided polygon can be rotated about a vertex r-times, by an angle of $\\frac{2\\pi}{r}$ to produce an identical polygon\n",
    "- $a=2, r=\\frac{an}{n-a}, n=\\frac{ar}{r-a}$\n",
    "- $\\frac{1}{n}+\\frac{1}{r}=\\frac{1}{a}$\n",
    "- $(n - a) \\times (r - a) = a^2 = 4 $\n",
    "- $e^{\\frac{2\\pi}{n}{i}} \\times e^{\\frac{2\\pi}{r}{i}} = e^{\\frac{2\\pi}{a}{i}} = i^2 = -1$\n",
    "\n",
    "where:\n",
    "- $n$ is the number sides of the regular convex polygon\n",
    "- $r$ is the number of rotations of an edge about a vertex that brings about identity. \n",
    "\n",
    "All statements above are equivalent. If one is true, all are true.\n",
    "\n",
    "In fact, the only $(n,r)$ that satisfy these statements are: \n",
    "- $(3,6)$ => the equilateral triangle,\n",
    "- $(4,4)$ => the square, and,\n",
    "- $(6,3)$ => the regular hexagon.\n",
    "\n",
    "What is very cool is that there exists a correspondence between natural numbers\n",
    "and the unit vectors of the complex plane whose arguments are unit fractions of $2\\pi$ \n",
    "\n",
    "- $2 <=> e^{\\frac{\\pi}{2}{i}}$ or $i$\n",
    "- $4 <=> e^{{\\pi}{i}}$ or $i^2$\n",
    "- $n-2 <=> e^{\\frac{2\\pi}{n}{i}}$\n",
    "- $r-2 <=> e^{\\frac{2\\pi}{r}{i}}$\n",
    "- $n <=> e^{\\frac{2\\pi}{n}{i}} + i$\n",
    "- $r <=> e^{\\frac{2\\pi}{r}{i}} + i$\n",
    "\n",
    "This means, that the same equations:\n",
    "\n",
    "- $\\frac{a^{\\prime}n^{\\prime}}{n^{\\prime}-a^{\\prime}} = r^{\\prime}$\n",
    "- $\\frac{1}{n^{\\prime}} + \\frac{1}{r^{\\prime}} = \\frac{1}{a^{\\prime}}$\n",
    "- $(n^{\\prime} - a^{\\prime}) \\times (r^{\\prime} - a^{\\prime}) = a^{\\prime2}$\n",
    "\n",
    "that hold true for:\n",
    "\n",
    "- $a^{\\prime}=2, n^{\\prime}=n, r^{\\prime}=r$\n",
    "\n",
    "also hold true for:\n",
    "\n",
    "- $a^{\\prime}=i, n^{\\prime}=e^{\\frac{2\\pi}{n}{i}}+i, r^{\\prime}=e^{\\frac{2\\pi}{r}{i}}+i$\n"
   ]
  }
 ],
 "metadata": {
  "kernelspec": {
   "display_name": "Python 3",
   "language": "python",
   "name": "python3"
  },
  "language_info": {
   "codemirror_mode": {
    "name": "ipython",
    "version": 3
   },
   "file_extension": ".py",
   "mimetype": "text/x-python",
   "name": "python",
   "nbconvert_exporter": "python",
   "pygments_lexer": "ipython3",
   "version": "3.9.8"
  }
 },
 "nbformat": 4,
 "nbformat_minor": 4
}
