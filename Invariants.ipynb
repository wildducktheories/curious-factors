{
 "cells": [
  {
   "cell_type": "markdown",
   "metadata": {},
   "source": [
    "# Invariants That Apply To Regular Polygons That Tessellate The Plane\n",
    "\n",
    "The following statements encapsulate the invariants that classify the regular n-sided, convex polygons that tessellate the plane from those that don't\n",
    "\n",
    "Let $n,r \\in \\mathbb{N}$, then a regular n-sided, convex polygon of n sides will tesselate the plane iff:\n",
    "\n",
    "- a regular, convex n-sided polygon can be rotated about a vertex r-times to produce an identical polygon\n",
    "- $(n - 2) \\times (r - 2) = 2^2 = 4 $, or,\n",
    "- $e^{\\frac{2\\pi}{n}{i}} \\times e^{\\frac{2\\pi}{r}{i}} = e^{\\frac{2\\pi}{2}{i}} = i^2 = -1$, or,\n",
    "- $r=\\frac{2n}{n-2}, n=\\frac{2r}{r-2}$\n",
    "\n",
    "where:\n",
    "- $n$ is the number sides of the regular convex polygon\n",
    "- $r$ is the number of rotations of an edge about a vertex that brings about identity. \n",
    "\n",
    "All statements above are equivalent. If one is true, all are true.\n",
    "\n",
    "In fact, the only $(n,r)$ that satisfy these statements are: $(3,6)$ - the triangle, $(4,4)$ - the square and $(6,3)$ - the hexagon.\n",
    "\n",
    "What is very cool is there exists a 1:1 correspondence between natural numbers\n",
    "and the unit fraction, unit vectors of the complex plane.\n",
    "\n",
    "- $n-2 <=> e^{\\frac{2\\pi}{n}{i}}$\n",
    "- $n <=> e^{\\frac{2\\pi}{n}{i}} + i$\n",
    "- $r-2 <=> e^{\\frac{2\\pi}{r}{i}}$\n",
    "- $r <=> e^{\\frac{2\\pi}{r}{i}} + i$\n",
    "- $2 <=> e^{\\frac{\\pi}{2}{i}}$ or $i$\n",
    "- $4 <=> i^2$\n",
    "\n",
    "The same equation:\n",
    "\n",
    "$\\frac{AN}{N-A} = R$\n",
    "\n",
    "holds true for:\n",
    "\n",
    "$A=2, N=n, R=r$\n",
    "\n",
    "but also for:\n",
    "\n",
    "$A=i, N=e^{\\frac{2\\pi}{n}{i}}+i, R=e^{\\frac{2\\pi}{r}{i}}+i$\n"
   ]
  },
  {
   "cell_type": "code",
   "execution_count": null,
   "metadata": {},
   "outputs": [],
   "source": []
  },
  {
   "cell_type": "code",
   "execution_count": null,
   "metadata": {},
   "outputs": [],
   "source": []
  }
 ],
 "metadata": {
  "kernelspec": {
   "display_name": "Python 3",
   "language": "python",
   "name": "python3"
  },
  "language_info": {
   "codemirror_mode": {
    "name": "ipython",
    "version": 3
   },
   "file_extension": ".py",
   "mimetype": "text/x-python",
   "name": "python",
   "nbconvert_exporter": "python",
   "pygments_lexer": "ipython3",
   "version": "3.9.8"
  }
 },
 "nbformat": 4,
 "nbformat_minor": 4
}
