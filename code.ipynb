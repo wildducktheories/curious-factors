{
 "cells": [
  {
   "cell_type": "code",
   "execution_count": 1,
   "metadata": {},
   "outputs": [],
   "source": [
    "from src import *\n",
    "from IPython.core.display import display, HTML\n"
   ]
  },
  {
   "cell_type": "code",
   "execution_count": 2,
   "metadata": {},
   "outputs": [],
   "source": [
    "I_PI=M_a(0,2)\n",
    "def generate(seed, visited, depth, diffs=False):\n",
    "    if visited is None:\n",
    "        visited = OrderedSet()\n",
    "    if depth < 0:\n",
    "        return visited\n",
    "    if seed in visited:\n",
    "        return visited\n",
    "    try:\n",
    "        m1=(seed**2)\n",
    "        m2=seed.conjugate()\n",
    "        m3=(I_PI*seed)\n",
    "        visited.add(seed)\n",
    "        visited=generate(m1, visited, depth-1)\n",
    "        visited=generate(m2, visited, depth-1)\n",
    "        visited=generate(m3, visited, depth-1)\n",
    "        if diffs:\n",
    "            for m in visited:\n",
    "                if m!=seed and m>seed:\n",
    "                    visited = generate(diff(m,seed), visited, depth-1)\n",
    "    except ZeroDivisionError as e:\n",
    "        print(\"div by zero\", seed)\n",
    "        raise e\n",
    "    return visited\n",
    "\n",
    "def diff(a,b):\n",
    "    return ((a*(b**-1))**2)*a\n",
    "\n",
    "def diff2(a,b):\n",
    "    return ((a**3)*(b**-2))\n",
    "\n",
    "def d(m):\n",
    "    display(HTML(m.latex()))\n",
    "    \n",
    "def ds(m):\n",
    "    display(HTML(m.latex_symbolic()))   \n",
    "\n",
    "def dh(s):\n",
    "    display(HTML(s))\n",
    "    \n",
    "def deqn(m):\n",
    "    dh(eqn(m))\n",
    "    \n",
    "def eqn(m):\n",
    "    return m.latex_symbolic()+\"$=$\"+m.latex()"
   ]
  },
  {
   "cell_type": "code",
   "execution_count": 15,
   "metadata": {},
   "outputs": [
    {
     "data": {
      "text/html": [
       "$M_{2}(1)^{1}$$=$$e^{2\\pi\\frac{1}{1+2}{i}}$"
      ],
      "text/plain": [
       "<IPython.core.display.HTML object>"
      ]
     },
     "metadata": {},
     "output_type": "display_data"
    },
    {
     "data": {
      "text/html": [
       "$M_{2}(1)^{2}$$=$$e^{2\\pi\\frac{2}{1+2}{i}}$"
      ],
      "text/plain": [
       "<IPython.core.display.HTML object>"
      ]
     },
     "metadata": {},
     "output_type": "display_data"
    },
    {
     "data": {
      "text/html": [
       "$M_{2}(4)^{1}$$=$$e^{2\\pi\\frac{1}{4+2}{i}}$"
      ],
      "text/plain": [
       "<IPython.core.display.HTML object>"
      ]
     },
     "metadata": {},
     "output_type": "display_data"
    },
    {
     "data": {
      "text/html": [
       "$M_{2}(4)^{5}$$=$$e^{2\\pi\\frac{5}{4+2}{i}}$"
      ],
      "text/plain": [
       "<IPython.core.display.HTML object>"
      ]
     },
     "metadata": {},
     "output_type": "display_data"
    },
    {
     "data": {
      "text/html": [
       "$M_{2}(2)^{1}$$=$$e^{2\\pi\\frac{1}{2+2}{i}}$"
      ],
      "text/plain": [
       "<IPython.core.display.HTML object>"
      ]
     },
     "metadata": {},
     "output_type": "display_data"
    },
    {
     "data": {
      "text/html": [
       "$M_{2}(0)^{1}$$=$$e^{2\\pi\\frac{1}{0+2}{i}}$"
      ],
      "text/plain": [
       "<IPython.core.display.HTML object>"
      ]
     },
     "metadata": {},
     "output_type": "display_data"
    },
    {
     "data": {
      "text/html": [
       "$M_{2}(0)^{0}$$=$$e^{2\\pi\\frac{0}{0+2}{i}}$"
      ],
      "text/plain": [
       "<IPython.core.display.HTML object>"
      ]
     },
     "metadata": {},
     "output_type": "display_data"
    },
    {
     "data": {
      "text/html": [
       "$M_{2}(2)^{3}$$=$$e^{2\\pi\\frac{3}{2+2}{i}}$"
      ],
      "text/plain": [
       "<IPython.core.display.HTML object>"
      ]
     },
     "metadata": {},
     "output_type": "display_data"
    }
   ],
   "source": [
    "all=OrderedSet()\n",
    "all=generate(M_a(p=1,a=2,k=1), None, 5, diffs=False)\n",
    "all=generate(M_a(p=2,a=2,k=1), all, 5, diffs=True)\n",
    "all=generate(M_a(p=4,a=2,k=1), all, 5, diffs=False)\n",
    "_=[deqn(a) for a in all]"
   ]
  },
  {
   "cell_type": "code",
   "execution_count": 10,
   "metadata": {},
   "outputs": [
    {
     "data": {
      "text/html": [
       "$M_{2}(4)^{1}$"
      ],
      "text/plain": [
       "<IPython.core.display.HTML object>"
      ]
     },
     "metadata": {},
     "output_type": "display_data"
    },
    {
     "data": {
      "text/html": [
       "$M_{2}(1)^{1}$"
      ],
      "text/plain": [
       "<IPython.core.display.HTML object>"
      ]
     },
     "metadata": {},
     "output_type": "display_data"
    },
    {
     "data": {
      "text/html": [
       "$M_{2}(1)^{2}$"
      ],
      "text/plain": [
       "<IPython.core.display.HTML object>"
      ]
     },
     "metadata": {},
     "output_type": "display_data"
    },
    {
     "data": {
      "text/html": [
       "$M_{2}(4)^{5}$"
      ],
      "text/plain": [
       "<IPython.core.display.HTML object>"
      ]
     },
     "metadata": {},
     "output_type": "display_data"
    }
   ],
   "source": [
    "_=[ds(a) for a in sorted(generate(M_a(1, a=2), None, 10))]"
   ]
  },
  {
   "cell_type": "code",
   "execution_count": 11,
   "metadata": {
    "scrolled": true
   },
   "outputs": [
    {
     "data": {
      "text/html": [
       "$M_{2}(0)^{0}$"
      ],
      "text/plain": [
       "<IPython.core.display.HTML object>"
      ]
     },
     "metadata": {},
     "output_type": "display_data"
    },
    {
     "data": {
      "text/html": [
       "$M_{2}(2)^{1}$"
      ],
      "text/plain": [
       "<IPython.core.display.HTML object>"
      ]
     },
     "metadata": {},
     "output_type": "display_data"
    },
    {
     "data": {
      "text/html": [
       "$M_{2}(0)^{1}$"
      ],
      "text/plain": [
       "<IPython.core.display.HTML object>"
      ]
     },
     "metadata": {},
     "output_type": "display_data"
    },
    {
     "data": {
      "text/html": [
       "$M_{2}(2)^{3}$"
      ],
      "text/plain": [
       "<IPython.core.display.HTML object>"
      ]
     },
     "metadata": {},
     "output_type": "display_data"
    }
   ],
   "source": [
    "_=[ds(a) for a in sorted(generate(M_a(2, a=2), None, 10))]"
   ]
  },
  {
   "cell_type": "code",
   "execution_count": 12,
   "metadata": {},
   "outputs": [
    {
     "data": {
      "text/html": [
       "$M_{2}(4)^{1}$"
      ],
      "text/plain": [
       "<IPython.core.display.HTML object>"
      ]
     },
     "metadata": {},
     "output_type": "display_data"
    },
    {
     "data": {
      "text/html": [
       "$M_{2}(1)^{1}$"
      ],
      "text/plain": [
       "<IPython.core.display.HTML object>"
      ]
     },
     "metadata": {},
     "output_type": "display_data"
    },
    {
     "data": {
      "text/html": [
       "$M_{2}(1)^{2}$"
      ],
      "text/plain": [
       "<IPython.core.display.HTML object>"
      ]
     },
     "metadata": {},
     "output_type": "display_data"
    },
    {
     "data": {
      "text/html": [
       "$M_{2}(4)^{5}$"
      ],
      "text/plain": [
       "<IPython.core.display.HTML object>"
      ]
     },
     "metadata": {},
     "output_type": "display_data"
    }
   ],
   "source": [
    "_=[ds(a) for a in sorted(generate(M_a(4, a=2), None, 10))]"
   ]
  },
  {
   "cell_type": "code",
   "execution_count": null,
   "metadata": {},
   "outputs": [],
   "source": []
  }
 ],
 "metadata": {
  "kernelspec": {
   "display_name": "Python 3",
   "language": "python",
   "name": "python3"
  },
  "language_info": {
   "codemirror_mode": {
    "name": "ipython",
    "version": 3
   },
   "file_extension": ".py",
   "mimetype": "text/x-python",
   "name": "python",
   "nbconvert_exporter": "python",
   "pygments_lexer": "ipython3",
   "version": "3.9.8"
  }
 },
 "nbformat": 4,
 "nbformat_minor": 4
}
