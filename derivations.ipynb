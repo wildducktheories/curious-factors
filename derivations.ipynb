{
 "cells": [
  {
   "cell_type": "markdown",
   "metadata": {},
   "source": [
    "# Derivations\n",
    "\n",
    "## Multiplication\n",
    "\n",
    "$M_a(p).M_a(q) = e^{{2\\pi{i}}(\\frac{1}{p+a}+\\frac{1}{q+a})}=\n",
    "\\frac{1}{p+a}+\\frac{1}{q+a}=\n",
    "\\frac{p+a+q+a}{(p+a)(q+a)}=\n",
    "\\frac{1}{\\frac{(p+a)(q+a)}{p+a+q+a}-a+a}=\n",
    "\\frac{1}{\\frac{(p+a)(q+a)-a(p+a+q+a)}{(p+a+q+a)}+a}=\n",
    "M_a(\\frac{pq-a^2}{p+q+2a})$"
   ]
  },
  {
   "cell_type": "code",
   "execution_count": null,
   "metadata": {},
   "outputs": [],
   "source": []
  }
 ],
 "metadata": {
  "kernelspec": {
   "display_name": "Python 3",
   "language": "python",
   "name": "python3"
  },
  "language_info": {
   "codemirror_mode": {
    "name": "ipython",
    "version": 3
   },
   "file_extension": ".py",
   "mimetype": "text/x-python",
   "name": "python",
   "nbconvert_exporter": "python",
   "pygments_lexer": "ipython3",
   "version": "3.9.8"
  }
 },
 "nbformat": 4,
 "nbformat_minor": 4
}
